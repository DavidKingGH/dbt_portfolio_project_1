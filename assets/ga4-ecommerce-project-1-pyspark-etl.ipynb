{
 "cells": [
  {
   "cell_type": "code",
   "execution_count": 1,
   "id": "3a4b270b-60ca-4b32-b417-bc6f666cde56",
   "metadata": {},
   "outputs": [],
   "source": [
    "from pyspark.sql import SparkSession\n",
    "from pyspark.sql import functions as F\n",
    "import pandas as pd\n",
    "import os"
   ]
  },
  {
   "cell_type": "markdown",
   "id": "339fb46e-d429-40b6-a960-ee5042164cdd",
   "metadata": {},
   "source": [
    "### Creating a BigQuery Dataset\n",
    "(pyspark_env) PS C:\\Users\\David\\my_dbt_project> bq mk --dataset --location=US ga4-ecommerce-project-1:pyspark_output\n",
    ">>\n",
    "Dataset 'ga4-ecommerce-project-1:pyspark_output' successfully created.\n",
    "\n",
    "### Creating a BigQuery Temporary Bucket\n",
    "(pyspark_env) PS C:\\Users\\David\\my_dbt_project> gsutil mb -l US gs://ga4-ecommerce-project-1-temp\n",
    "Creating gs://ga4-ecommerce-project-1-temp/...\n"
   ]
  },
  {
   "cell_type": "code",
   "execution_count": 2,
   "id": "5ac14043-9ee8-405d-be4d-0ca077eff601",
   "metadata": {},
   "outputs": [],
   "source": [
    "def get_event_param(params_col, param_key, value_type):\n",
    "  \"\"\"\n",
    "  A helper function to safely extract a value from the GA4 event_params MAP.\n",
    "  \"\"\"\n",
    "  # Access the struct from the map by its key, then get the specific value type\n",
    "  return params_col.getItem(param_key).getItem(value_type)\n",
    "\n",
    "def write_to_gcs_for_dbt(df, table_name, gcs_bucket, format=\"parquet\"):\n",
    "    \"\"\"\n",
    "    Generic function to write DataFrames to GCS for dbt consumption\n",
    "    \"\"\"\n",
    "    output_path = f\"gs://{gcs_bucket}/pyspark_output/{table_name}\"\n",
    "    \n",
    "    if format == \"parquet\":\n",
    "        df.write.mode(\"overwrite\").parquet(output_path)\n",
    "    elif format == \"csv\":\n",
    "        df.write.mode(\"overwrite\").option(\"header\", \"true\").csv(output_path)\n",
    "    elif format == \"json\":\n",
    "        df.write.mode(\"overwrite\").json(output_path)\n",
    "    \n",
    "    return output_path\n",
    "\n",
    "def run_dq_check(df, description, condition):\n",
    "    \"\"\"\n",
    "    Runs a data quality check.\n",
    "    If the condition returns any rows, it means there is bad data, and an error is raised.\n",
    "    \"\"\"\n",
    "    invalid_rows_df = df.filter(condition)\n",
    "    invalid_row_count = invalid_rows_df.count()\n",
    "\n",
    "    if invalid_row_count > 0:\n",
    "        print(f\"FAILED DQ CHECK: {description}\")\n",
    "        print(f\"Found {invalid_row_count} invalid rows. Showing examples:\")\n",
    "        invalid_rows_df.show(5)\n",
    "        raise Exception(f\"Data quality check failed: {description}\")\n",
    "    else:\n",
    "        print(f\"PASSED DQ CHECK: {description}\")\n",
    "\n",
    "def write_local_for_dbt(df, table_name, format=\"parquet\"):\n",
    "    \"\"\"Write DataFrames locally for dbt consumption\"\"\"\n",
    "    output_path = f\"./data/{table_name}\"\n",
    "    df.write.mode(\"overwrite\").parquet(output_path)\n",
    "    print(f\"Data written to: {output_path}\")\n",
    "    return output_path"
   ]
  },
  {
   "cell_type": "code",
   "execution_count": 3,
   "id": "6f984a8e-ee66-4a78-a870-43dfb7ca4313",
   "metadata": {},
   "outputs": [],
   "source": [
    "# Set environment variables\n",
    "os.environ['JAVA_HOME'] = r\"C:/Program Files/Eclipse Adoptium/jdk-17.0.16.8-hotspot\"\n",
    "os.environ['SPARK_SKIP_JAVA_VERSION_CHECK'] = '1'\n",
    "\n",
    "# --- Key Configurations ---\n",
    "project_id = 'ga4-ecommerce-project-1' \n",
    "\n",
    "connector_package = \"com.google.cloud.spark:spark-bigquery-with-dependencies_2.12:0.37.0,javax.inject:javax.inject:1\"\n",
    "\n",
    "# Define your packages\n",
    "bq_package = \"com.google.cloud.spark:spark-bigquery-with-dependencies_2.12:0.37.0\"\n",
    "gcs_package = \"com.google.cloud.bigdataoss:gcs-connector:hadoop3-2.2.20\" # Add this GCS connector\n",
    "inject_package = \"javax.inject:javax.inject:1\"\n",
    "gcs_jar_path = \"C:/Users/David/spark_jar/gcs-connector-hadoop3-2.2.20-shaded.jar\"\n",
    "bq_jar_path = \"C:/Users/David/spark_jar/spark-bigquery-with-dependencies_2.12-0.37.0.jar\"\n",
    "\n",
    "# Combine the packages into a comma-separated string\n",
    "all_packages = f\"{bq_package},{gcs_package},{inject_package}\""
   ]
  },
  {
   "cell_type": "code",
   "execution_count": 4,
   "id": "f48cd732-7442-4e50-ba6b-f5f0d1330fcd",
   "metadata": {},
   "outputs": [
    {
     "name": "stdout",
     "output_type": "stream",
     "text": [
      "Initializing SparkSession...\n",
      "+----------------+----------------+-------+\n",
      "|min_ts          |max_ts          |rows   |\n",
      "+----------------+----------------+-------+\n",
      "|1604188804579566|1606780799060669|1472712|\n",
      "+----------------+----------------+-------+\n",
      "\n",
      "+----------------+----------------+-------+\n",
      "|min_ts          |max_ts          |rows   |\n",
      "+----------------+----------------+-------+\n",
      "|1606780800730722|1609459163197109|1612725|\n",
      "+----------------+----------------+-------+\n",
      "\n",
      "+----------------+----------------+-------+\n",
      "|min_ts          |max_ts          |rows   |\n",
      "+----------------+----------------+-------+\n",
      "|1609459208136569|1612137595412363|1210147|\n",
      "+----------------+----------------+-------+\n",
      "\n",
      "SparkSession initialized and data loaded successfully.\n"
     ]
    }
   ],
   "source": [
    "print(\"Initializing SparkSession...\")\n",
    "\n",
    "spark = (\n",
    "    SparkSession.builder\n",
    "    .appName(\"BigQueryAndGcsApp\")\n",
    "    .config(\"spark.jars.packages\", all_packages)\n",
    "    .config(\"spark.hadoop.google.cloud.auth.service.account.json.keyfile\",\n",
    "            \"C:/Users/David/AppData/Roaming/gcloud/application_default_credentials.json\")\n",
    "    .config(\"spark.hadoop.fs.gs.impl\", \"com.google.cloud.hadoop.fs.gcs.GoogleHadoopFileSystem\")\n",
    "    .config(\"spark.hadoop.fs.AbstractFileSystem.gs.impl\", \"com.google.cloud.hadoop.fs.gcs.GoogleHadoopFS\")\n",
    "    .config(\"spark.hadoop.fs.gs.auth.service.account.enable\", \"true\")\n",
    "    .config(\"spark.hadoop.fs.gs.auth.service.account.json.keyfile\",\n",
    "            \"C:/Users/David/AppData/Roaming/gcloud/application_default_credentials.json\")\n",
    "    .getOrCreate()\n",
    ")\n",
    "\n",
    "BASE_SELECT = \"\"\"\n",
    "WITH base AS (\n",
    "  SELECT\n",
    "    TO_HEX(MD5(CONCAT(user_pseudo_id, '_', CAST(event_timestamp AS STRING), '_', event_name))) AS event_id,\n",
    "    event_date,\n",
    "    event_timestamp,\n",
    "    event_name,\n",
    "    user_pseudo_id,\n",
    "    (SELECT ep.value.int_value FROM UNNEST(event_params) ep WHERE ep.key = 'ga_session_id') AS ga_session_id,\n",
    "    (SELECT ep.value.string_value FROM UNNEST(event_params) ep WHERE ep.key = 'page_location') AS page_location,\n",
    "    (SELECT ep.value.string_value FROM UNNEST(event_params) ep WHERE ep.key = 'page_referrer') AS page_referrer,\n",
    "    (SELECT ep.value.int_value FROM UNNEST(event_params) ep WHERE ep.key = 'engagement_time_msec') AS engagement_time_msec,\n",
    "    (SELECT ep.value.string_value FROM UNNEST(event_params) ep WHERE ep.key = 'gclid') AS gclid,\n",
    "    (SELECT ep.value.string_value FROM UNNEST(event_params) ep WHERE ep.key = 'utm_source') AS utm_source,\n",
    "    (SELECT ep.value.string_value FROM UNNEST(event_params) ep WHERE ep.key = 'utm_medium') AS utm_medium,\n",
    "    (SELECT ep.value.string_value FROM UNNEST(event_params) ep WHERE ep.key = 'utm_campaign') AS utm_campaign,\n",
    "    (SELECT ep.value.string_value FROM UNNEST(event_params) ep WHERE ep.key = 'utm_term') AS utm_term,\n",
    "    (SELECT ep.value.string_value FROM UNNEST(event_params) ep WHERE ep.key = 'utm_content') AS utm_content,\n",
    "    ecommerce.transaction_id,\n",
    "    event_value_in_usd,\n",
    "    traffic_source.source,\n",
    "    traffic_source.medium,\n",
    "    traffic_source.name AS campaign_name,\n",
    "    geo.continent,\n",
    "    geo.country,\n",
    "    geo.region,\n",
    "    geo.city,\n",
    "    device.category,\n",
    "    device.operating_system,\n",
    "    device.web_info.browser,\n",
    "    device.mobile_brand_name,\n",
    "    items,\n",
    "    user_id,\n",
    "    user_first_touch_timestamp\n",
    "  FROM\n",
    "    `bigquery-public-data.ga4_obfuscated_sample_ecommerce.events_*`\n",
    "  WHERE _TABLE_SUFFIX BETWEEN '{START}' AND '{END}'\n",
    ")\n",
    "\n",
    "SELECT * FROM base\n",
    "\"\"\"\n",
    "\n",
    "months = [\n",
    "    ('20201101', '20201130'),\n",
    "    ('20201201', '20201231'),\n",
    "    ('20210101', '20210131')\n",
    "]\n",
    "\n",
    "paths = []\n",
    "for start, end in months:\n",
    "    sql = BASE_SELECT.format(START=start, END=end)\n",
    "    part = (\n",
    "        spark.read.format(\"bigquery\")\n",
    "        .option(\"parentProject\", project_id)\n",
    "        .option(\"viewsEnabled\", \"true\")\n",
    "        .option(\"materializationProject\", project_id)\n",
    "        .option(\"materializationDataset\", \"spark_bq_temp\")\n",
    "        .option(\"readDataFormat\", \"AVRO\")\n",
    "        .option(\"query\", sql)\n",
    "        .load()\n",
    "    )\n",
    "\n",
    "    # quick sanity check\n",
    "    part.select(\n",
    "        F.min(\"event_timestamp\").alias(\"min_ts\"),\n",
    "        F.max(\"event_timestamp\").alias(\"max_ts\"),\n",
    "        F.count(\"*\").alias(\"rows\")\n",
    "    ).show(truncate=False)\n",
    "\n",
    "    # adjust partition count for your machine\n",
    "    part = part.repartition(8)\n",
    "\n",
    "    path = f\"C:/Users/David/my_dbt_project/ga4_data/ga4_{start}_{end}.parquet\"\n",
    "    part.write.mode(\"overwrite\").parquet(path)\n",
    "    paths.append(path)\n",
    "\n",
    "df = spark.read.parquet(*paths)\n",
    "\n",
    "print(\"SparkSession initialized and data loaded successfully.\")"
   ]
  },
  {
   "cell_type": "code",
   "execution_count": null,
   "id": "43fa9821-5369-4a82-91eb-184c5ad7dec3",
   "metadata": {
    "scrolled": true
   },
   "outputs": [],
   "source": [
    "df = df.select('*').withColumn('event_id', F.md5(F.concat_ws('_', F.col('user_pseudo_id'), F.col('event_timestamp'), F.col('event_name'))))"
   ]
  },
  {
   "cell_type": "code",
   "execution_count": null,
   "id": "3015f383-6d8b-46f1-8235-a034ef95d596",
   "metadata": {},
   "outputs": [],
   "source": [
    "dim_users = df.groupBy(\"user_pseudo_id\").agg(\n",
    "    F.first(\"user_id\").alias(\"user_id\"),\n",
    "    F.min(\"user_first_touch_timestamp\").alias(\"user_first_touch_timestamp\")\n",
    ")"
   ]
  },
  {
   "cell_type": "code",
   "execution_count": null,
   "id": "cc01c294-eafe-45dd-bfbf-29e7b8fdf088",
   "metadata": {},
   "outputs": [],
   "source": [
    "run_dq_check(dim_users, \"user_pseudo_id in dim_users should not be null\", F.col(\"user_pseudo_id\").isNull())\n",
    "\n",
    "invalid_df = dim_users.groupBy(\"user_pseudo_id\").count().filter(\"count > 1\")\n",
    "run_dq_check(invalid_df, \"user_pseudo_id in dim_users should be unique\", F.lit(True))"
   ]
  },
  {
   "cell_type": "code",
   "execution_count": null,
   "id": "e4c28b59-11e0-456c-bb0b-9d8f705f7217",
   "metadata": {},
   "outputs": [],
   "source": [
    "write_local_for_dbt(dim_users, \"dim_users\")"
   ]
  },
  {
   "cell_type": "code",
   "execution_count": null,
   "id": "110a6657-2da7-4390-9be4-f536a7f39777",
   "metadata": {},
   "outputs": [],
   "source": [
    "'''\n",
    "dim_users.write \\\n",
    "    .format(\"bigquery\") \\\n",
    "    .option(\"table\", f\"{project_id}.pyspark_output.dim_users\") \\\n",
    "    .option(\"temporaryGcsBucket\", \"ga4-ecommerce-project-1-temp\") \\\n",
    "    .mode(\"overwrite\") \\\n",
    "    .save()\n",
    "'''"
   ]
  },
  {
   "cell_type": "code",
   "execution_count": null,
   "id": "f2811e19-e9ed-40a8-9fa9-b6e50608af54",
   "metadata": {},
   "outputs": [],
   "source": [
    "# write_to_gcs_for_dbt(dim_users, \"dim_users\", 'ga4-ecommerce-project-1', format=\"parquet\")"
   ]
  },
  {
   "cell_type": "code",
   "execution_count": null,
   "id": "86a6bdef-7e68-4324-89a9-36b155d733e3",
   "metadata": {},
   "outputs": [],
   "source": [
    "fact_events = df.select(\n",
    "    F.col('event_id'),\n",
    "    F.col('event_date'),\n",
    "    F.col('event_timestamp'),\n",
    "    F.col('event_name'),\n",
    "    F.col('user_pseudo_id'),\n",
    "    get_event_param(F.col('event_params'), 'ga_session_id', 'int_value').alias('ga_session_id'),\n",
    "    get_event_param(F.col('event_params'), 'page_location', 'string_value').alias('page_location'),\n",
    "    get_event_param(F.col('event_params'), 'page_referrer', 'string_value').alias('page_referrer'),\n",
    "    get_event_param(F.col('event_params'), 'engagement_time_msec', 'int_value').alias('engagement_time_msec'),\n",
    "    get_event_param(F.col('event_params'), 'gclid', 'string_value').alias('gclid'),\n",
    "    get_event_param(F.col('event_params'), 'utm_source', 'string_value').alias('utm_source'),\n",
    "    get_event_param(F.col('event_params'), 'utm_medium', 'string_value').alias('utm_medium'),\n",
    "    get_event_param(F.col('event_params'), 'utm_campaign', 'string_value').alias('utm_campaign'),\n",
    "    get_event_param(F.col('event_params'), 'utm_term', 'string_value').alias('utm_term'),\n",
    "    get_event_param(F.col('event_params'), 'utm_content', 'string_value').alias('utm_content'),\n",
    "    F.col('ecommerce.transaction_id').alias('transaction_id'),\n",
    "    F.col('event_value_in_usd'),\n",
    "    F.col('traffic_source.source').alias('source'),\n",
    "    F.col('traffic_source.medium').alias('medium'),\n",
    "    F.col('traffic_source.name').alias('campaign_name'),\n",
    "    F.col('geo.continent').alias('continent'),\n",
    "    F.col('geo.country').alias('country'), \n",
    "    F.col('geo.region').alias('region'),\n",
    "    F.col('geo.city').alias('city'), \n",
    "    F.col('device.category').alias('category'), \n",
    "    F.col('device.operating_system').alias('operating_system'), \n",
    "    F.col('device.web_info.browser').alias('browser'), \n",
    "    F.col('device.mobile_brand_name').alias('mobile_brand_name')\n",
    ")"
   ]
  },
  {
   "cell_type": "code",
   "execution_count": null,
   "id": "e151d723-f026-4c42-9ec1-44f3dd2b775a",
   "metadata": {},
   "outputs": [],
   "source": [
    "fact_events.select(F.min(F.col('event_date'))).show()"
   ]
  },
  {
   "cell_type": "code",
   "execution_count": null,
   "id": "6a094c39-f4f4-4981-b087-8280beb1be8d",
   "metadata": {},
   "outputs": [],
   "source": [
    "tst = fact_events.toPandas()"
   ]
  },
  {
   "cell_type": "code",
   "execution_count": null,
   "id": "8b783237-d880-4f6b-9077-9b3b681ce3d2",
   "metadata": {},
   "outputs": [],
   "source": [
    "tst['event_name'].unique()"
   ]
  },
  {
   "cell_type": "code",
   "execution_count": null,
   "id": "3dafe21c-01fb-4ef4-b279-4e82a9864536",
   "metadata": {},
   "outputs": [],
   "source": [
    "tst.head(10)"
   ]
  },
  {
   "cell_type": "code",
   "execution_count": null,
   "id": "f24d9558-37ce-4e47-998e-e2891e578534",
   "metadata": {},
   "outputs": [],
   "source": [
    "fact_events.printSchema()"
   ]
  },
  {
   "cell_type": "code",
   "execution_count": null,
   "id": "a0f7dda5-bb38-4d54-9245-4f33d9b9c3ff",
   "metadata": {
    "scrolled": true
   },
   "outputs": [],
   "source": [
    "run_dq_check(fact_events, \"event_id should not be null\", F.col(\"event_id\").isNull())\n",
    "run_dq_check(fact_events, \"user_pseudo_id should not be null\", F.col(\"user_pseudo_id\").isNull())\n",
    "\n",
    "invalid_df = fact_events.groupBy(\"event_id\").count().filter(\"count > 1\")\n",
    "run_dq_check(invalid_df, \"event_id should be unique\", F.lit(True)) \n",
    "\n",
    "orphaned_events = fact_events.join(dim_users, on=\"user_pseudo_id\", how=\"left_anti\")\n",
    "run_dq_check(orphaned_events, \"All events must have a valid user\", F.lit(True))"
   ]
  },
  {
   "cell_type": "code",
   "execution_count": null,
   "id": "1623a901-c64a-4882-a33f-dd60d911cdf1",
   "metadata": {},
   "outputs": [],
   "source": [
    "# write_to_gcs_for_dbt(fact_events, \"fct_events\", 'ga4-ecommerce-project-1', format=\"parquet\")"
   ]
  },
  {
   "cell_type": "code",
   "execution_count": null,
   "id": "a91b09b0-45d3-498f-b155-a8fb8d13ad22",
   "metadata": {},
   "outputs": [],
   "source": [
    "write_local_for_dbt(fact_events, \"fact_events\")"
   ]
  },
  {
   "cell_type": "code",
   "execution_count": null,
   "id": "180fdbf0-4073-4cbc-bdad-378e7ebce491",
   "metadata": {},
   "outputs": [],
   "source": [
    "'''\n",
    "fact_events.write \\\n",
    "    .format(\"bigquery\") \\\n",
    "    .option(\"table\", f\"{project_id}.pyspark_output.fact_events\") \\\n",
    "    .option(\"temporaryGcsBucket\", \"ga4-ecommerce-project-1-temp\") \\\n",
    "    .mode(\"overwrite\") \\\n",
    "    .save()\n",
    "'''"
   ]
  },
  {
   "cell_type": "code",
   "execution_count": null,
   "id": "9fb500b7-1499-423f-98b6-82dce1e05499",
   "metadata": {},
   "outputs": [],
   "source": [
    "dim_items = df.select(F.explode(F.col('items')).alias('items')).select(\n",
    "\n",
    "    F.col(\"items.item_id\").alias(\"item_id\"),\n",
    "    F.col(\"items.item_name\").alias(\"item_name\"),\n",
    "    F.col(\"items.item_brand\").alias(\"item_brand\"),\n",
    "    F.col(\"items.item_variant\").alias(\"item_variant\"),\n",
    "    F.col(\"items.item_category\").alias(\"item_category\"),\n",
    "    F.col(\"items.item_category2\").alias(\"item_category2\"),\n",
    "    F.col(\"items.item_category3\").alias(\"item_category3\"),\n",
    "    F.col(\"items.item_category4\").alias(\"item_category4\"),\n",
    "    F.col(\"items.item_category5\").alias(\"item_category5\")\n",
    "    \n",
    ").dropDuplicates([\"item_id\"])"
   ]
  },
  {
   "cell_type": "code",
   "execution_count": null,
   "id": "b6ee02c8-92fb-4187-8df0-53f813ed7bf1",
   "metadata": {},
   "outputs": [],
   "source": []
  },
  {
   "cell_type": "code",
   "execution_count": null,
   "id": "7332db9d-b227-4578-8b33-93d98ba3c200",
   "metadata": {},
   "outputs": [],
   "source": [
    "run_dq_check(dim_items, \"item_id in dim_items should not be null\", F.col(\"item_id\").isNull())\n",
    "\n",
    "invalid_df = dim_items.groupBy(\"item_id\").count().filter(\"count > 1\")\n",
    "run_dq_check(invalid_df, \"item_id in dim_items should be unique\", F.lit(True))"
   ]
  },
  {
   "cell_type": "code",
   "execution_count": null,
   "id": "4c5b83dc-aafd-4ff5-b82c-602eec6292b4",
   "metadata": {},
   "outputs": [],
   "source": [
    "# write_to_gcs_for_dbt(dim_items, \"dim_items\", 'ga4-ecommerce-project-1', format=\"parquet\")"
   ]
  },
  {
   "cell_type": "code",
   "execution_count": null,
   "id": "12e67592-5691-4bd6-bfc3-b429ff36a4a2",
   "metadata": {},
   "outputs": [],
   "source": [
    "write_local_for_dbt(dim_items, \"dim_items\")"
   ]
  },
  {
   "cell_type": "code",
   "execution_count": null,
   "id": "8d9a2939-bcc1-4bd5-9d68-7aab7ec96890",
   "metadata": {},
   "outputs": [],
   "source": [
    "'''\n",
    "dim_items.write \\\n",
    "    .format(\"bigquery\") \\\n",
    "    .option(\"table\", f\"{project_id}.pyspark_output.dim_items\") \\\n",
    "    .option(\"temporaryGcsBucket\", \"ga4-ecommerce-project-1-temp\") \\\n",
    "    .mode(\"overwrite\") \\\n",
    "    .save()\n",
    "'''"
   ]
  },
  {
   "cell_type": "code",
   "execution_count": null,
   "id": "477c960d-33e3-4a09-b126-7867673523f5",
   "metadata": {},
   "outputs": [],
   "source": [
    "fact_event_items = df.select(F.col('event_id'), F.explode(F.col('items')).alias('items')).select(\n",
    "    \n",
    "    F.col('event_id'),\n",
    "    F.col('items.item_id').alias('item_id'),\n",
    "    F.col('items.quantity').alias('quantity'),\n",
    "    F.col('items.price').alias('price'),\n",
    "    F.col('items.price_in_usd').alias('price_in_usd'),\n",
    "    F.col('items.item_revenue_in_usd').alias('item_revenue_in_usd'),\n",
    "    F.col('items.item_revenue').alias('item_revenue'),\n",
    "    F.col('items.item_refund_in_usd').alias('item_refund_in_usd'),\n",
    "    F.col('items.item_refund').alias('item_refund'),\n",
    "    F.col('items.coupon').alias('coupon'),\n",
    "    F.col('items.affiliation').alias('affiliation'),\n",
    "    F.col('items.location_id').alias('location_id'),\n",
    "    F.col('items.item_list_id').alias('item_list_id'),\n",
    "    F.col('items.item_list_name').alias('item_list_name'),\n",
    "    F.col('items.item_list_index').alias('item_list_index'),\n",
    "    F.col('items.promotion_id').alias('promotion_id'),\n",
    "    F.col('items.promotion_name').alias('promotion_name'),\n",
    "    F.col('items.creative_name').alias('creative_name'),\n",
    "    F.col('items.creative_slot').alias('creative_slot')\n",
    ")"
   ]
  },
  {
   "cell_type": "code",
   "execution_count": null,
   "id": "05f36b87-3bde-4daf-b37d-5ac7a163656e",
   "metadata": {},
   "outputs": [],
   "source": [
    "tst_2 = fact_event_items.toPandas()"
   ]
  },
  {
   "cell_type": "code",
   "execution_count": null,
   "id": "232e2cdf-a43d-4e17-af14-2eae017dcafd",
   "metadata": {},
   "outputs": [],
   "source": [
    "tst_2.head(10) "
   ]
  },
  {
   "cell_type": "code",
   "execution_count": null,
   "id": "0287e39c-5d4c-45c5-ab18-926ad3b9aaa9",
   "metadata": {},
   "outputs": [],
   "source": [
    "fact_event_items.withColumn('revenue', F.col('price') * F.col('quantity')).filter(F.col('revenue').isNotNull()).count()"
   ]
  },
  {
   "cell_type": "code",
   "execution_count": null,
   "id": "6579ab26-f5b2-4f54-bfc6-7a0d01bda087",
   "metadata": {},
   "outputs": [],
   "source": []
  },
  {
   "cell_type": "code",
   "execution_count": null,
   "id": "4bfd8944-e188-4ec0-97b5-44ab30cd7431",
   "metadata": {},
   "outputs": [],
   "source": [
    "fact_event_items.filter(F.col('price').isNotNull()).count()"
   ]
  },
  {
   "cell_type": "code",
   "execution_count": null,
   "id": "0e781a8e-06be-4208-bee9-98f5c6623a6d",
   "metadata": {
    "scrolled": true
   },
   "outputs": [],
   "source": [
    "run_dq_check(fact_event_items, \"event_id in bridge table should not be null\", F.col(\"event_id\").isNull())\n",
    "run_dq_check(fact_event_items, \"item_id in bridge table should not be null\", F.col(\"item_id\").isNull())\n",
    "\n",
    "orphaned_items_by_event = fact_event_items.join(fact_events, on=\"event_id\", how=\"left_anti\")\n",
    "run_dq_check(orphaned_items_by_event, \"All items must link to a valid event\", F.lit(True))\n",
    "\n",
    "orphaned_items_by_item = fact_event_items.join(dim_items, on=\"item_id\", how=\"left_anti\")\n",
    "run_dq_check(orphaned_items_by_item, \"All event items must link to a valid item in dim_items\", F.lit(True))"
   ]
  },
  {
   "cell_type": "code",
   "execution_count": null,
   "id": "8ce0274e-7810-440d-afbd-f48a8ad2f460",
   "metadata": {},
   "outputs": [],
   "source": [
    "write_local_for_dbt(fact_event_items, \"fact_event_items\")"
   ]
  },
  {
   "cell_type": "code",
   "execution_count": null,
   "id": "1cf3d1bb-5285-45a3-8aff-e3d7fd6719ff",
   "metadata": {},
   "outputs": [],
   "source": [
    "# write_to_gcs_for_dbt(fact_event_items, \"fct_event_items\", 'ga4-ecommerce-project-1', format=\"parquet\")"
   ]
  },
  {
   "cell_type": "code",
   "execution_count": null,
   "id": "3d5b39a0-c44d-4ed1-b389-477781f2bfd1",
   "metadata": {},
   "outputs": [],
   "source": [
    "'''\n",
    "fact_event_items.write \\\n",
    "    .format(\"bigquery\") \\\n",
    "    .option(\"table\", f\"{project_id}.pyspark_output.fact_event_items\") \\\n",
    "    .option(\"temporaryGcsBucket\", \"ga4-ecommerce-project-1-temp\") \\\n",
    "    .mode(\"overwrite\") \\\n",
    "    .save()\n",
    "'''"
   ]
  }
 ],
 "metadata": {
  "kernelspec": {
   "display_name": "Python (pyspark_env)",
   "language": "python",
   "name": "pyspark_env"
  },
  "language_info": {
   "codemirror_mode": {
    "name": "ipython",
    "version": 3
   },
   "file_extension": ".py",
   "mimetype": "text/x-python",
   "name": "python",
   "nbconvert_exporter": "python",
   "pygments_lexer": "ipython3",
   "version": "3.13.5"
  }
 },
 "nbformat": 4,
 "nbformat_minor": 5
}
